{
  "nbformat": 4,
  "nbformat_minor": 0,
  "metadata": {
    "colab": {
      "provenance": []
    },
    "kernelspec": {
      "name": "python3",
      "display_name": "Python 3"
    },
    "language_info": {
      "name": "python"
    }
  },
  "cells": [
    {
      "cell_type": "code",
      "execution_count": null,
      "metadata": {
        "id": "3gpFqc7DZJWh"
      },
      "outputs": [],
      "source": [
        "import pandas as pd\n",
        "import numpy as np\n",
        "import yfinance as yf"
      ]
    },
    {
      "cell_type": "code",
      "source": [
        "# Download data for NIFTY-50 and selected stocks\n",
        "nifty_data = yf.download('^NSEI', start='2020-01-01', end='2020-12-31')\n",
        "stocks = ['RELIANCE.NS', 'TCS.NS', 'INFY.NS', 'HDFCBANK.NS', 'ICICIBANK.NS', 'KOTAKBANK.NS', 'ITC.NS', 'LT.NS', 'SBIN.NS', 'BAJFINANCE.NS']  # Add more as needed\n",
        "\n",
        "# Download stock data\n",
        "stock_data = yf.download(stocks, start='2020-01-01', end='2020-12-31')['Adj Close']\n"
      ],
      "metadata": {
        "colab": {
          "base_uri": "https://localhost:8080/"
        },
        "id": "5-SJZj2WZSl9",
        "outputId": "5bfc0b47-d842-447c-ca22-19d110536bf4"
      },
      "execution_count": null,
      "outputs": [
        {
          "output_type": "stream",
          "name": "stderr",
          "text": [
            "[*********************100%***********************]  1 of 1 completed\n",
            "[*********************100%***********************]  10 of 10 completed\n"
          ]
        }
      ]
    },
    {
      "cell_type": "code",
      "source": [
        "stock_data.head()"
      ],
      "metadata": {
        "colab": {
          "base_uri": "https://localhost:8080/",
          "height": 344
        },
        "id": "1y0hi0JseR5G",
        "outputId": "613b6057-febe-44cd-8170-c4cf1b883334"
      },
      "execution_count": null,
      "outputs": [
        {
          "output_type": "execute_result",
          "data": {
            "text/plain": [
              "Ticker                     BAJFINANCE.NS  HDFCBANK.NS  ICICIBANK.NS  \\\n",
              "Date                                                                  \n",
              "2020-01-01 00:00:00+00:00    4160.838867  1227.428589    518.854004   \n",
              "2020-01-02 00:00:00+00:00    4175.342773  1235.252441    522.575562   \n",
              "2020-01-03 00:00:00+00:00    4123.619141  1217.636841    520.883972   \n",
              "2020-01-06 00:00:00+00:00    3930.145264  1191.285400    508.172455   \n",
              "2020-01-07 00:00:00+00:00    3940.912842  1210.149048    505.465851   \n",
              "\n",
              "Ticker                        INFY.NS      ITC.NS  KOTAKBANK.NS        LT.NS  \\\n",
              "Date                                                                           \n",
              "2020-01-01 00:00:00+00:00  655.615356  194.749054   1669.007446  1195.268677   \n",
              "2020-01-02 00:00:00+00:00  653.702271  196.180450   1666.515015  1227.524170   \n",
              "2020-01-03 00:00:00+00:00  663.756592  195.076202   1652.108398  1218.171631   \n",
              "2020-01-06 00:00:00+00:00  657.394836  192.295258   1647.572266  1201.473511   \n",
              "2020-01-07 00:00:00+00:00  647.652100  192.499756   1665.817139  1204.895020   \n",
              "\n",
              "Ticker                     RELIANCE.NS     SBIN.NS       TCS.NS  \n",
              "Date                                                             \n",
              "2020-01-01 00:00:00+00:00   671.074280  314.799194  2015.370117  \n",
              "2020-01-02 00:00:00+00:00   682.498901  319.364197  2006.118896  \n",
              "2020-01-03 00:00:00+00:00   683.321350  314.093231  2046.099365  \n",
              "2020-01-06 00:00:00+00:00   667.473572  300.256958  2045.912964  \n",
              "2020-01-07 00:00:00+00:00   677.742371  299.692169  2050.934570  "
            ],
            "text/html": [
              "\n",
              "  <div id=\"df-5cbaae2d-c882-490f-9d2c-b89682ea3585\" class=\"colab-df-container\">\n",
              "    <div>\n",
              "<style scoped>\n",
              "    .dataframe tbody tr th:only-of-type {\n",
              "        vertical-align: middle;\n",
              "    }\n",
              "\n",
              "    .dataframe tbody tr th {\n",
              "        vertical-align: top;\n",
              "    }\n",
              "\n",
              "    .dataframe thead th {\n",
              "        text-align: right;\n",
              "    }\n",
              "</style>\n",
              "<table border=\"1\" class=\"dataframe\">\n",
              "  <thead>\n",
              "    <tr style=\"text-align: right;\">\n",
              "      <th>Ticker</th>\n",
              "      <th>BAJFINANCE.NS</th>\n",
              "      <th>HDFCBANK.NS</th>\n",
              "      <th>ICICIBANK.NS</th>\n",
              "      <th>INFY.NS</th>\n",
              "      <th>ITC.NS</th>\n",
              "      <th>KOTAKBANK.NS</th>\n",
              "      <th>LT.NS</th>\n",
              "      <th>RELIANCE.NS</th>\n",
              "      <th>SBIN.NS</th>\n",
              "      <th>TCS.NS</th>\n",
              "    </tr>\n",
              "    <tr>\n",
              "      <th>Date</th>\n",
              "      <th></th>\n",
              "      <th></th>\n",
              "      <th></th>\n",
              "      <th></th>\n",
              "      <th></th>\n",
              "      <th></th>\n",
              "      <th></th>\n",
              "      <th></th>\n",
              "      <th></th>\n",
              "      <th></th>\n",
              "    </tr>\n",
              "  </thead>\n",
              "  <tbody>\n",
              "    <tr>\n",
              "      <th>2020-01-01 00:00:00+00:00</th>\n",
              "      <td>4160.838867</td>\n",
              "      <td>1227.428589</td>\n",
              "      <td>518.854004</td>\n",
              "      <td>655.615356</td>\n",
              "      <td>194.749054</td>\n",
              "      <td>1669.007446</td>\n",
              "      <td>1195.268677</td>\n",
              "      <td>671.074280</td>\n",
              "      <td>314.799194</td>\n",
              "      <td>2015.370117</td>\n",
              "    </tr>\n",
              "    <tr>\n",
              "      <th>2020-01-02 00:00:00+00:00</th>\n",
              "      <td>4175.342773</td>\n",
              "      <td>1235.252441</td>\n",
              "      <td>522.575562</td>\n",
              "      <td>653.702271</td>\n",
              "      <td>196.180450</td>\n",
              "      <td>1666.515015</td>\n",
              "      <td>1227.524170</td>\n",
              "      <td>682.498901</td>\n",
              "      <td>319.364197</td>\n",
              "      <td>2006.118896</td>\n",
              "    </tr>\n",
              "    <tr>\n",
              "      <th>2020-01-03 00:00:00+00:00</th>\n",
              "      <td>4123.619141</td>\n",
              "      <td>1217.636841</td>\n",
              "      <td>520.883972</td>\n",
              "      <td>663.756592</td>\n",
              "      <td>195.076202</td>\n",
              "      <td>1652.108398</td>\n",
              "      <td>1218.171631</td>\n",
              "      <td>683.321350</td>\n",
              "      <td>314.093231</td>\n",
              "      <td>2046.099365</td>\n",
              "    </tr>\n",
              "    <tr>\n",
              "      <th>2020-01-06 00:00:00+00:00</th>\n",
              "      <td>3930.145264</td>\n",
              "      <td>1191.285400</td>\n",
              "      <td>508.172455</td>\n",
              "      <td>657.394836</td>\n",
              "      <td>192.295258</td>\n",
              "      <td>1647.572266</td>\n",
              "      <td>1201.473511</td>\n",
              "      <td>667.473572</td>\n",
              "      <td>300.256958</td>\n",
              "      <td>2045.912964</td>\n",
              "    </tr>\n",
              "    <tr>\n",
              "      <th>2020-01-07 00:00:00+00:00</th>\n",
              "      <td>3940.912842</td>\n",
              "      <td>1210.149048</td>\n",
              "      <td>505.465851</td>\n",
              "      <td>647.652100</td>\n",
              "      <td>192.499756</td>\n",
              "      <td>1665.817139</td>\n",
              "      <td>1204.895020</td>\n",
              "      <td>677.742371</td>\n",
              "      <td>299.692169</td>\n",
              "      <td>2050.934570</td>\n",
              "    </tr>\n",
              "  </tbody>\n",
              "</table>\n",
              "</div>\n",
              "    <div class=\"colab-df-buttons\">\n",
              "\n",
              "  <div class=\"colab-df-container\">\n",
              "    <button class=\"colab-df-convert\" onclick=\"convertToInteractive('df-5cbaae2d-c882-490f-9d2c-b89682ea3585')\"\n",
              "            title=\"Convert this dataframe to an interactive table.\"\n",
              "            style=\"display:none;\">\n",
              "\n",
              "  <svg xmlns=\"http://www.w3.org/2000/svg\" height=\"24px\" viewBox=\"0 -960 960 960\">\n",
              "    <path d=\"M120-120v-720h720v720H120Zm60-500h600v-160H180v160Zm220 220h160v-160H400v160Zm0 220h160v-160H400v160ZM180-400h160v-160H180v160Zm440 0h160v-160H620v160ZM180-180h160v-160H180v160Zm440 0h160v-160H620v160Z\"/>\n",
              "  </svg>\n",
              "    </button>\n",
              "\n",
              "  <style>\n",
              "    .colab-df-container {\n",
              "      display:flex;\n",
              "      gap: 12px;\n",
              "    }\n",
              "\n",
              "    .colab-df-convert {\n",
              "      background-color: #E8F0FE;\n",
              "      border: none;\n",
              "      border-radius: 50%;\n",
              "      cursor: pointer;\n",
              "      display: none;\n",
              "      fill: #1967D2;\n",
              "      height: 32px;\n",
              "      padding: 0 0 0 0;\n",
              "      width: 32px;\n",
              "    }\n",
              "\n",
              "    .colab-df-convert:hover {\n",
              "      background-color: #E2EBFA;\n",
              "      box-shadow: 0px 1px 2px rgba(60, 64, 67, 0.3), 0px 1px 3px 1px rgba(60, 64, 67, 0.15);\n",
              "      fill: #174EA6;\n",
              "    }\n",
              "\n",
              "    .colab-df-buttons div {\n",
              "      margin-bottom: 4px;\n",
              "    }\n",
              "\n",
              "    [theme=dark] .colab-df-convert {\n",
              "      background-color: #3B4455;\n",
              "      fill: #D2E3FC;\n",
              "    }\n",
              "\n",
              "    [theme=dark] .colab-df-convert:hover {\n",
              "      background-color: #434B5C;\n",
              "      box-shadow: 0px 1px 3px 1px rgba(0, 0, 0, 0.15);\n",
              "      filter: drop-shadow(0px 1px 2px rgba(0, 0, 0, 0.3));\n",
              "      fill: #FFFFFF;\n",
              "    }\n",
              "  </style>\n",
              "\n",
              "    <script>\n",
              "      const buttonEl =\n",
              "        document.querySelector('#df-5cbaae2d-c882-490f-9d2c-b89682ea3585 button.colab-df-convert');\n",
              "      buttonEl.style.display =\n",
              "        google.colab.kernel.accessAllowed ? 'block' : 'none';\n",
              "\n",
              "      async function convertToInteractive(key) {\n",
              "        const element = document.querySelector('#df-5cbaae2d-c882-490f-9d2c-b89682ea3585');\n",
              "        const dataTable =\n",
              "          await google.colab.kernel.invokeFunction('convertToInteractive',\n",
              "                                                    [key], {});\n",
              "        if (!dataTable) return;\n",
              "\n",
              "        const docLinkHtml = 'Like what you see? Visit the ' +\n",
              "          '<a target=\"_blank\" href=https://colab.research.google.com/notebooks/data_table.ipynb>data table notebook</a>'\n",
              "          + ' to learn more about interactive tables.';\n",
              "        element.innerHTML = '';\n",
              "        dataTable['output_type'] = 'display_data';\n",
              "        await google.colab.output.renderOutput(dataTable, element);\n",
              "        const docLink = document.createElement('div');\n",
              "        docLink.innerHTML = docLinkHtml;\n",
              "        element.appendChild(docLink);\n",
              "      }\n",
              "    </script>\n",
              "  </div>\n",
              "\n",
              "\n",
              "<div id=\"df-a3791335-ff4e-44de-916f-fc4c66121ecd\">\n",
              "  <button class=\"colab-df-quickchart\" onclick=\"quickchart('df-a3791335-ff4e-44de-916f-fc4c66121ecd')\"\n",
              "            title=\"Suggest charts\"\n",
              "            style=\"display:none;\">\n",
              "\n",
              "<svg xmlns=\"http://www.w3.org/2000/svg\" height=\"24px\"viewBox=\"0 0 24 24\"\n",
              "     width=\"24px\">\n",
              "    <g>\n",
              "        <path d=\"M19 3H5c-1.1 0-2 .9-2 2v14c0 1.1.9 2 2 2h14c1.1 0 2-.9 2-2V5c0-1.1-.9-2-2-2zM9 17H7v-7h2v7zm4 0h-2V7h2v10zm4 0h-2v-4h2v4z\"/>\n",
              "    </g>\n",
              "</svg>\n",
              "  </button>\n",
              "\n",
              "<style>\n",
              "  .colab-df-quickchart {\n",
              "      --bg-color: #E8F0FE;\n",
              "      --fill-color: #1967D2;\n",
              "      --hover-bg-color: #E2EBFA;\n",
              "      --hover-fill-color: #174EA6;\n",
              "      --disabled-fill-color: #AAA;\n",
              "      --disabled-bg-color: #DDD;\n",
              "  }\n",
              "\n",
              "  [theme=dark] .colab-df-quickchart {\n",
              "      --bg-color: #3B4455;\n",
              "      --fill-color: #D2E3FC;\n",
              "      --hover-bg-color: #434B5C;\n",
              "      --hover-fill-color: #FFFFFF;\n",
              "      --disabled-bg-color: #3B4455;\n",
              "      --disabled-fill-color: #666;\n",
              "  }\n",
              "\n",
              "  .colab-df-quickchart {\n",
              "    background-color: var(--bg-color);\n",
              "    border: none;\n",
              "    border-radius: 50%;\n",
              "    cursor: pointer;\n",
              "    display: none;\n",
              "    fill: var(--fill-color);\n",
              "    height: 32px;\n",
              "    padding: 0;\n",
              "    width: 32px;\n",
              "  }\n",
              "\n",
              "  .colab-df-quickchart:hover {\n",
              "    background-color: var(--hover-bg-color);\n",
              "    box-shadow: 0 1px 2px rgba(60, 64, 67, 0.3), 0 1px 3px 1px rgba(60, 64, 67, 0.15);\n",
              "    fill: var(--button-hover-fill-color);\n",
              "  }\n",
              "\n",
              "  .colab-df-quickchart-complete:disabled,\n",
              "  .colab-df-quickchart-complete:disabled:hover {\n",
              "    background-color: var(--disabled-bg-color);\n",
              "    fill: var(--disabled-fill-color);\n",
              "    box-shadow: none;\n",
              "  }\n",
              "\n",
              "  .colab-df-spinner {\n",
              "    border: 2px solid var(--fill-color);\n",
              "    border-color: transparent;\n",
              "    border-bottom-color: var(--fill-color);\n",
              "    animation:\n",
              "      spin 1s steps(1) infinite;\n",
              "  }\n",
              "\n",
              "  @keyframes spin {\n",
              "    0% {\n",
              "      border-color: transparent;\n",
              "      border-bottom-color: var(--fill-color);\n",
              "      border-left-color: var(--fill-color);\n",
              "    }\n",
              "    20% {\n",
              "      border-color: transparent;\n",
              "      border-left-color: var(--fill-color);\n",
              "      border-top-color: var(--fill-color);\n",
              "    }\n",
              "    30% {\n",
              "      border-color: transparent;\n",
              "      border-left-color: var(--fill-color);\n",
              "      border-top-color: var(--fill-color);\n",
              "      border-right-color: var(--fill-color);\n",
              "    }\n",
              "    40% {\n",
              "      border-color: transparent;\n",
              "      border-right-color: var(--fill-color);\n",
              "      border-top-color: var(--fill-color);\n",
              "    }\n",
              "    60% {\n",
              "      border-color: transparent;\n",
              "      border-right-color: var(--fill-color);\n",
              "    }\n",
              "    80% {\n",
              "      border-color: transparent;\n",
              "      border-right-color: var(--fill-color);\n",
              "      border-bottom-color: var(--fill-color);\n",
              "    }\n",
              "    90% {\n",
              "      border-color: transparent;\n",
              "      border-bottom-color: var(--fill-color);\n",
              "    }\n",
              "  }\n",
              "</style>\n",
              "\n",
              "  <script>\n",
              "    async function quickchart(key) {\n",
              "      const quickchartButtonEl =\n",
              "        document.querySelector('#' + key + ' button');\n",
              "      quickchartButtonEl.disabled = true;  // To prevent multiple clicks.\n",
              "      quickchartButtonEl.classList.add('colab-df-spinner');\n",
              "      try {\n",
              "        const charts = await google.colab.kernel.invokeFunction(\n",
              "            'suggestCharts', [key], {});\n",
              "      } catch (error) {\n",
              "        console.error('Error during call to suggestCharts:', error);\n",
              "      }\n",
              "      quickchartButtonEl.classList.remove('colab-df-spinner');\n",
              "      quickchartButtonEl.classList.add('colab-df-quickchart-complete');\n",
              "    }\n",
              "    (() => {\n",
              "      let quickchartButtonEl =\n",
              "        document.querySelector('#df-a3791335-ff4e-44de-916f-fc4c66121ecd button');\n",
              "      quickchartButtonEl.style.display =\n",
              "        google.colab.kernel.accessAllowed ? 'block' : 'none';\n",
              "    })();\n",
              "  </script>\n",
              "</div>\n",
              "\n",
              "    </div>\n",
              "  </div>\n"
            ],
            "application/vnd.google.colaboratory.intrinsic+json": {
              "type": "dataframe",
              "variable_name": "stock_data",
              "summary": "{\n  \"name\": \"stock_data\",\n  \"rows\": 250,\n  \"fields\": [\n    {\n      \"column\": \"Date\",\n      \"properties\": {\n        \"dtype\": \"date\",\n        \"min\": \"2020-01-01 00:00:00+00:00\",\n        \"max\": \"2020-12-30 00:00:00+00:00\",\n        \"num_unique_values\": 250,\n        \"samples\": [\n          \"2020-07-29 00:00:00+00:00\",\n          \"2020-01-09 00:00:00+00:00\",\n          \"2020-05-27 00:00:00+00:00\"\n        ],\n        \"semantic_type\": \"\",\n        \"description\": \"\"\n      }\n    },\n    {\n      \"column\": \"BAJFINANCE.NS\",\n      \"properties\": {\n        \"dtype\": \"number\",\n        \"std\": 913.3270395525568,\n        \"min\": 1802.6766357421875,\n        \"max\": 5257.37939453125,\n        \"num_unique_values\": 249,\n        \"samples\": [\n          3206.181884765625,\n          4055.52197265625,\n          1908.5799560546875\n        ],\n        \"semantic_type\": \"\",\n        \"description\": \"\"\n      }\n    },\n    {\n      \"column\": \"HDFCBANK.NS\",\n      \"properties\": {\n        \"dtype\": \"number\",\n        \"std\": 157.24919671045888,\n        \"min\": 736.9755859375,\n        \"max\": 1384.09716796875,\n        \"num_unique_values\": 246,\n        \"samples\": [\n          1168.43798828125,\n          1220.5169677734375,\n          1002.2175903320312\n        ],\n        \"semantic_type\": \"\",\n        \"description\": \"\"\n      }\n    },\n    {\n      \"column\": \"ICICIBANK.NS\",\n      \"properties\": {\n        \"dtype\": \"number\",\n        \"std\": 75.97878560039838,\n        \"min\": 274.5310363769531,\n        \"max\": 530.985595703125,\n        \"num_unique_values\": 245,\n        \"samples\": [\n          513.1023559570312,\n          528.0855102539062,\n          357.2286682128906\n        ],\n        \"semantic_type\": \"\",\n        \"description\": \"\"\n      }\n    },\n    {\n      \"column\": \"INFY.NS\",\n      \"properties\": {\n        \"dtype\": \"number\",\n        \"std\": 175.26002255778175,\n        \"min\": 468.41107177734375,\n        \"max\": 1142.222900390625,\n        \"num_unique_values\": 245,\n        \"samples\": [\n          700.9927978515625,\n          647.3406372070312,\n          865.1598510742188\n        ],\n        \"semantic_type\": \"\",\n        \"description\": \"\"\n      }\n    },\n    {\n      \"column\": \"ITC.NS\",\n      \"properties\": {\n        \"dtype\": \"number\",\n        \"std\": 17.354001878816568,\n        \"min\": 120.44013977050781,\n        \"max\": 198.9613800048828,\n        \"num_unique_values\": 237,\n        \"samples\": [\n          165.3035888671875,\n          194.70814514160156,\n          158.28048706054688\n        ],\n        \"semantic_type\": \"\",\n        \"description\": \"\"\n      }\n    },\n    {\n      \"column\": \"KOTAKBANK.NS\",\n      \"properties\": {\n        \"dtype\": \"number\",\n        \"std\": 231.75809802436464,\n        \"min\": 1094.9417724609375,\n        \"max\": 2011.8714599609375,\n        \"num_unique_values\": 247,\n        \"samples\": [\n          1685.90625,\n          1660.0345458984375,\n          1249.275634765625\n        ],\n        \"semantic_type\": \"\",\n        \"description\": \"\"\n      }\n    },\n    {\n      \"column\": \"LT.NS\",\n      \"properties\": {\n        \"dtype\": \"number\",\n        \"std\": 156.88476240206168,\n        \"min\": 654.9720458984375,\n        \"max\": 1250.243896484375,\n        \"num_unique_values\": 249,\n        \"samples\": [\n          848.021728515625,\n          1200.926025390625,\n          787.2339477539062\n        ],\n        \"semantic_type\": \"\",\n        \"description\": \"\"\n      }\n    },\n    {\n      \"column\": \"RELIANCE.NS\",\n      \"properties\": {\n        \"dtype\": \"number\",\n        \"std\": 168.31261586985215,\n        \"min\": 392.99365234375,\n        \"max\": 1047.390380859375,\n        \"num_unique_values\": 249,\n        \"samples\": [\n          902.957763671875,\n          688.14453125,\n          648.6928100585938\n        ],\n        \"semantic_type\": \"\",\n        \"description\": \"\"\n      }\n    },\n    {\n      \"column\": \"SBIN.NS\",\n      \"properties\": {\n        \"dtype\": \"number\",\n        \"std\": 49.53336617912528,\n        \"min\": 141.98672485351562,\n        \"max\": 319.36419677734375,\n        \"num_unique_values\": 239,\n        \"samples\": [\n          288.256103515625,\n          310.7989196777344,\n          143.02207946777344\n        ],\n        \"semantic_type\": \"\",\n        \"description\": \"\"\n      }\n    },\n    {\n      \"column\": \"TCS.NS\",\n      \"properties\": {\n        \"dtype\": \"number\",\n        \"std\": 317.891932864727,\n        \"min\": 1536.02587890625,\n        \"max\": 2776.896484375,\n        \"num_unique_values\": 248,\n        \"samples\": [\n          2064.81689453125,\n          2058.837158203125,\n          2285.58837890625\n        ],\n        \"semantic_type\": \"\",\n        \"description\": \"\"\n      }\n    }\n  ]\n}"
            }
          },
          "metadata": {},
          "execution_count": 3
        }
      ]
    },
    {
      "cell_type": "code",
      "source": [
        "# Calculate daily returns\n",
        "nifty_data['Return'] = nifty_data['Adj Close'].pct_change()\n",
        "stock_returns = stock_data.pct_change()"
      ],
      "metadata": {
        "id": "vhtL_6NVZglh"
      },
      "execution_count": null,
      "outputs": []
    },
    {
      "cell_type": "markdown",
      "source": [
        "Cross Sectional Absolute Deviation (CSAD)"
      ],
      "metadata": {
        "id": "DkMUHUERZnDk"
      }
    },
    {
      "cell_type": "code",
      "source": [
        "def calculate_csad(stock_returns, market_return):\n",
        "    csad = (stock_returns.sub(market_return, axis=0).abs()).mean(axis=1)\n",
        "    return csad\n",
        "\n",
        "csad = calculate_csad(stock_returns, nifty_data['Return'])"
      ],
      "metadata": {
        "id": "QGk2drxwZlPW"
      },
      "execution_count": null,
      "outputs": []
    },
    {
      "cell_type": "code",
      "source": [
        "csad"
      ],
      "metadata": {
        "colab": {
          "base_uri": "https://localhost:8080/",
          "height": 489
        },
        "collapsed": true,
        "id": "U4EnnUZ3aBvL",
        "outputId": "8dcc1c8f-5da8-4462-ec44-5b21dd782fe1"
      },
      "execution_count": null,
      "outputs": [
        {
          "output_type": "execute_result",
          "data": {
            "text/plain": [
              "Date\n",
              "2020-01-01 00:00:00+00:00         NaN\n",
              "2020-01-02 00:00:00+00:00    0.007587\n",
              "2020-01-03 00:00:00+00:00    0.008928\n",
              "2020-01-06 00:00:00+00:00    0.011982\n",
              "2020-01-07 00:00:00+00:00    0.007519\n",
              "                               ...   \n",
              "2020-12-23 00:00:00+00:00    0.007454\n",
              "2020-12-24 00:00:00+00:00    0.010502\n",
              "2020-12-28 00:00:00+00:00    0.006837\n",
              "2020-12-29 00:00:00+00:00    0.006167\n",
              "2020-12-30 00:00:00+00:00    0.006431\n",
              "Length: 250, dtype: float64"
            ],
            "text/html": [
              "<div>\n",
              "<style scoped>\n",
              "    .dataframe tbody tr th:only-of-type {\n",
              "        vertical-align: middle;\n",
              "    }\n",
              "\n",
              "    .dataframe tbody tr th {\n",
              "        vertical-align: top;\n",
              "    }\n",
              "\n",
              "    .dataframe thead th {\n",
              "        text-align: right;\n",
              "    }\n",
              "</style>\n",
              "<table border=\"1\" class=\"dataframe\">\n",
              "  <thead>\n",
              "    <tr style=\"text-align: right;\">\n",
              "      <th></th>\n",
              "      <th>0</th>\n",
              "    </tr>\n",
              "    <tr>\n",
              "      <th>Date</th>\n",
              "      <th></th>\n",
              "    </tr>\n",
              "  </thead>\n",
              "  <tbody>\n",
              "    <tr>\n",
              "      <th>2020-01-01 00:00:00+00:00</th>\n",
              "      <td>NaN</td>\n",
              "    </tr>\n",
              "    <tr>\n",
              "      <th>2020-01-02 00:00:00+00:00</th>\n",
              "      <td>0.007587</td>\n",
              "    </tr>\n",
              "    <tr>\n",
              "      <th>2020-01-03 00:00:00+00:00</th>\n",
              "      <td>0.008928</td>\n",
              "    </tr>\n",
              "    <tr>\n",
              "      <th>2020-01-06 00:00:00+00:00</th>\n",
              "      <td>0.011982</td>\n",
              "    </tr>\n",
              "    <tr>\n",
              "      <th>2020-01-07 00:00:00+00:00</th>\n",
              "      <td>0.007519</td>\n",
              "    </tr>\n",
              "    <tr>\n",
              "      <th>...</th>\n",
              "      <td>...</td>\n",
              "    </tr>\n",
              "    <tr>\n",
              "      <th>2020-12-23 00:00:00+00:00</th>\n",
              "      <td>0.007454</td>\n",
              "    </tr>\n",
              "    <tr>\n",
              "      <th>2020-12-24 00:00:00+00:00</th>\n",
              "      <td>0.010502</td>\n",
              "    </tr>\n",
              "    <tr>\n",
              "      <th>2020-12-28 00:00:00+00:00</th>\n",
              "      <td>0.006837</td>\n",
              "    </tr>\n",
              "    <tr>\n",
              "      <th>2020-12-29 00:00:00+00:00</th>\n",
              "      <td>0.006167</td>\n",
              "    </tr>\n",
              "    <tr>\n",
              "      <th>2020-12-30 00:00:00+00:00</th>\n",
              "      <td>0.006431</td>\n",
              "    </tr>\n",
              "  </tbody>\n",
              "</table>\n",
              "<p>250 rows × 1 columns</p>\n",
              "</div><br><label><b>dtype:</b> float64</label>"
            ]
          },
          "metadata": {},
          "execution_count": 6
        }
      ]
    },
    {
      "cell_type": "markdown",
      "source": [
        "Cross Sectional Standard Deviation (CSSD)"
      ],
      "metadata": {
        "id": "tBxYwi2-aIpp"
      }
    },
    {
      "cell_type": "code",
      "source": [
        "def calculate_cssd(stock_returns, market_return):\n",
        "    cssd = (stock_returns.sub(market_return, axis=0) ** 2).mean(axis=1).apply(np.sqrt)\n",
        "    return cssd\n",
        "\n",
        "cssd = calculate_cssd(stock_returns, nifty_data['Return'])"
      ],
      "metadata": {
        "id": "CTvqCx3WaDNv"
      },
      "execution_count": null,
      "outputs": []
    },
    {
      "cell_type": "code",
      "source": [
        "cssd"
      ],
      "metadata": {
        "collapsed": true,
        "colab": {
          "base_uri": "https://localhost:8080/",
          "height": 489
        },
        "id": "FaFrl_ASaRV8",
        "outputId": "9a6b36c6-8115-4878-e9df-91caa7ca6b10"
      },
      "execution_count": null,
      "outputs": [
        {
          "output_type": "execute_result",
          "data": {
            "text/plain": [
              "Date\n",
              "2020-01-01 00:00:00+00:00         NaN\n",
              "2020-01-02 00:00:00+00:00    0.009374\n",
              "2020-01-03 00:00:00+00:00    0.011647\n",
              "2020-01-06 00:00:00+00:00    0.014898\n",
              "2020-01-07 00:00:00+00:00    0.009168\n",
              "                               ...   \n",
              "2020-12-23 00:00:00+00:00    0.008746\n",
              "2020-12-24 00:00:00+00:00    0.011943\n",
              "2020-12-28 00:00:00+00:00    0.008985\n",
              "2020-12-29 00:00:00+00:00    0.006966\n",
              "2020-12-30 00:00:00+00:00    0.008828\n",
              "Length: 250, dtype: float64"
            ],
            "text/html": [
              "<div>\n",
              "<style scoped>\n",
              "    .dataframe tbody tr th:only-of-type {\n",
              "        vertical-align: middle;\n",
              "    }\n",
              "\n",
              "    .dataframe tbody tr th {\n",
              "        vertical-align: top;\n",
              "    }\n",
              "\n",
              "    .dataframe thead th {\n",
              "        text-align: right;\n",
              "    }\n",
              "</style>\n",
              "<table border=\"1\" class=\"dataframe\">\n",
              "  <thead>\n",
              "    <tr style=\"text-align: right;\">\n",
              "      <th></th>\n",
              "      <th>0</th>\n",
              "    </tr>\n",
              "    <tr>\n",
              "      <th>Date</th>\n",
              "      <th></th>\n",
              "    </tr>\n",
              "  </thead>\n",
              "  <tbody>\n",
              "    <tr>\n",
              "      <th>2020-01-01 00:00:00+00:00</th>\n",
              "      <td>NaN</td>\n",
              "    </tr>\n",
              "    <tr>\n",
              "      <th>2020-01-02 00:00:00+00:00</th>\n",
              "      <td>0.009374</td>\n",
              "    </tr>\n",
              "    <tr>\n",
              "      <th>2020-01-03 00:00:00+00:00</th>\n",
              "      <td>0.011647</td>\n",
              "    </tr>\n",
              "    <tr>\n",
              "      <th>2020-01-06 00:00:00+00:00</th>\n",
              "      <td>0.014898</td>\n",
              "    </tr>\n",
              "    <tr>\n",
              "      <th>2020-01-07 00:00:00+00:00</th>\n",
              "      <td>0.009168</td>\n",
              "    </tr>\n",
              "    <tr>\n",
              "      <th>...</th>\n",
              "      <td>...</td>\n",
              "    </tr>\n",
              "    <tr>\n",
              "      <th>2020-12-23 00:00:00+00:00</th>\n",
              "      <td>0.008746</td>\n",
              "    </tr>\n",
              "    <tr>\n",
              "      <th>2020-12-24 00:00:00+00:00</th>\n",
              "      <td>0.011943</td>\n",
              "    </tr>\n",
              "    <tr>\n",
              "      <th>2020-12-28 00:00:00+00:00</th>\n",
              "      <td>0.008985</td>\n",
              "    </tr>\n",
              "    <tr>\n",
              "      <th>2020-12-29 00:00:00+00:00</th>\n",
              "      <td>0.006966</td>\n",
              "    </tr>\n",
              "    <tr>\n",
              "      <th>2020-12-30 00:00:00+00:00</th>\n",
              "      <td>0.008828</td>\n",
              "    </tr>\n",
              "  </tbody>\n",
              "</table>\n",
              "<p>250 rows × 1 columns</p>\n",
              "</div><br><label><b>dtype:</b> float64</label>"
            ]
          },
          "metadata": {},
          "execution_count": 8
        }
      ]
    },
    {
      "cell_type": "markdown",
      "source": [
        "Correlation Analysis"
      ],
      "metadata": {
        "id": "DIeG8xsZaV-d"
      }
    },
    {
      "cell_type": "code",
      "source": [
        "# Correlation matrix with NIFTY returns\n",
        "correlation = stock_returns.corrwith(nifty_data['Return'])\n",
        "correlation"
      ],
      "metadata": {
        "colab": {
          "base_uri": "https://localhost:8080/",
          "height": 429
        },
        "id": "WDFcF9WWaSXU",
        "outputId": "6130fcf5-e0a0-45d6-8946-6a6a21f14cd7"
      },
      "execution_count": null,
      "outputs": [
        {
          "output_type": "execute_result",
          "data": {
            "text/plain": [
              "Ticker\n",
              "BAJFINANCE.NS    0.747458\n",
              "HDFCBANK.NS      0.829112\n",
              "ICICIBANK.NS     0.844203\n",
              "INFY.NS          0.684565\n",
              "ITC.NS           0.541107\n",
              "KOTAKBANK.NS     0.743001\n",
              "LT.NS            0.739349\n",
              "RELIANCE.NS      0.738988\n",
              "SBIN.NS          0.769683\n",
              "TCS.NS           0.657053\n",
              "dtype: float64"
            ],
            "text/html": [
              "<div>\n",
              "<style scoped>\n",
              "    .dataframe tbody tr th:only-of-type {\n",
              "        vertical-align: middle;\n",
              "    }\n",
              "\n",
              "    .dataframe tbody tr th {\n",
              "        vertical-align: top;\n",
              "    }\n",
              "\n",
              "    .dataframe thead th {\n",
              "        text-align: right;\n",
              "    }\n",
              "</style>\n",
              "<table border=\"1\" class=\"dataframe\">\n",
              "  <thead>\n",
              "    <tr style=\"text-align: right;\">\n",
              "      <th></th>\n",
              "      <th>0</th>\n",
              "    </tr>\n",
              "    <tr>\n",
              "      <th>Ticker</th>\n",
              "      <th></th>\n",
              "    </tr>\n",
              "  </thead>\n",
              "  <tbody>\n",
              "    <tr>\n",
              "      <th>BAJFINANCE.NS</th>\n",
              "      <td>0.747458</td>\n",
              "    </tr>\n",
              "    <tr>\n",
              "      <th>HDFCBANK.NS</th>\n",
              "      <td>0.829112</td>\n",
              "    </tr>\n",
              "    <tr>\n",
              "      <th>ICICIBANK.NS</th>\n",
              "      <td>0.844203</td>\n",
              "    </tr>\n",
              "    <tr>\n",
              "      <th>INFY.NS</th>\n",
              "      <td>0.684565</td>\n",
              "    </tr>\n",
              "    <tr>\n",
              "      <th>ITC.NS</th>\n",
              "      <td>0.541107</td>\n",
              "    </tr>\n",
              "    <tr>\n",
              "      <th>KOTAKBANK.NS</th>\n",
              "      <td>0.743001</td>\n",
              "    </tr>\n",
              "    <tr>\n",
              "      <th>LT.NS</th>\n",
              "      <td>0.739349</td>\n",
              "    </tr>\n",
              "    <tr>\n",
              "      <th>RELIANCE.NS</th>\n",
              "      <td>0.738988</td>\n",
              "    </tr>\n",
              "    <tr>\n",
              "      <th>SBIN.NS</th>\n",
              "      <td>0.769683</td>\n",
              "    </tr>\n",
              "    <tr>\n",
              "      <th>TCS.NS</th>\n",
              "      <td>0.657053</td>\n",
              "    </tr>\n",
              "  </tbody>\n",
              "</table>\n",
              "</div><br><label><b>dtype:</b> float64</label>"
            ]
          },
          "metadata": {},
          "execution_count": 9
        }
      ]
    },
    {
      "cell_type": "markdown",
      "source": [
        "Granger Causality Test"
      ],
      "metadata": {
        "id": "zAK1MHAMahjr"
      }
    },
    {
      "cell_type": "markdown",
      "source": [
        "Volume Return Analysis"
      ],
      "metadata": {
        "id": "9GiTEOxHayiq"
      }
    },
    {
      "cell_type": "code",
      "source": [
        "# Example for analyzing relationship between trading volume and returns for a specific stock\n",
        "for stock in stocks:\n",
        "    stock_data[stock, 'Volume'] = yf.download(stock, start='2020-01-01', end='2020-12-31')['Volume']\n",
        "    volume = stock_data[stock, 'Volume']\n",
        "    returns = stock_returns[stock]\n",
        "\n",
        "    # Calculate correlation between volume and returns\n",
        "    correlation_volume_returns = returns.corr(volume)\n",
        "    print(f\"Correlation between Volume and Returns for {stock}: {correlation_volume_returns}\")\n"
      ],
      "metadata": {
        "colab": {
          "base_uri": "https://localhost:8080/"
        },
        "id": "fK4cczJNapad",
        "outputId": "060d8a99-9ac2-4e1f-a4ec-97f2a4ee0643"
      },
      "execution_count": null,
      "outputs": [
        {
          "output_type": "stream",
          "name": "stderr",
          "text": [
            "[*********************100%***********************]  1 of 1 completed\n",
            "[*********************100%***********************]  1 of 1 completed\n",
            "[*********************100%***********************]  1 of 1 completed\n"
          ]
        },
        {
          "output_type": "stream",
          "name": "stdout",
          "text": [
            "Correlation between Volume and Returns for RELIANCE.NS: 0.17562042388755003\n",
            "Correlation between Volume and Returns for TCS.NS: 0.15637129291624027\n",
            "Correlation between Volume and Returns for INFY.NS: 0.2690055475579686\n"
          ]
        },
        {
          "output_type": "stream",
          "name": "stderr",
          "text": [
            "[*********************100%***********************]  1 of 1 completed\n",
            "[*********************100%***********************]  1 of 1 completed\n",
            "[*********************100%***********************]  1 of 1 completed\n",
            "[*********************100%***********************]  1 of 1 completed"
          ]
        },
        {
          "output_type": "stream",
          "name": "stdout",
          "text": [
            "Correlation between Volume and Returns for HDFCBANK.NS: 0.11944147691843025\n",
            "Correlation between Volume and Returns for ICICIBANK.NS: 0.05967664611278185\n",
            "Correlation between Volume and Returns for KOTAKBANK.NS: 0.14359765889823337\n"
          ]
        },
        {
          "output_type": "stream",
          "name": "stderr",
          "text": [
            "\n",
            "[*********************100%***********************]  1 of 1 completed\n",
            "[*********************100%***********************]  1 of 1 completed\n",
            "[*********************100%***********************]  1 of 1 completed\n"
          ]
        },
        {
          "output_type": "stream",
          "name": "stdout",
          "text": [
            "Correlation between Volume and Returns for ITC.NS: 0.12621791950827882\n",
            "Correlation between Volume and Returns for LT.NS: 0.19959387865566566\n",
            "Correlation between Volume and Returns for SBIN.NS: 0.1877889005558868\n",
            "Correlation between Volume and Returns for BAJFINANCE.NS: 0.17305279007937063\n"
          ]
        }
      ]
    },
    {
      "cell_type": "markdown",
      "source": [
        "Visualizations"
      ],
      "metadata": {
        "id": "SHD7pHVGbA8q"
      }
    },
    {
      "cell_type": "code",
      "source": [
        "import matplotlib.pyplot as plt\n",
        "\n",
        "# Plot CSAD and CSSD\n",
        "plt.figure(figsize=(8, 4))\n",
        "plt.plot(csad, label='CSAD')\n",
        "plt.plot(cssd, label='CSSD')\n",
        "plt.title('CSAD and CSSD Analysis Over Time')\n",
        "plt.xlabel('Date')\n",
        "plt.ylabel('Value')\n",
        "plt.legend()\n",
        "plt.show()\n"
      ],
      "metadata": {
        "colab": {
          "base_uri": "https://localhost:8080/",
          "height": 410
        },
        "id": "nlLHp_Xaa5tJ",
        "outputId": "0e2a0097-58e6-48fe-c6c4-ada7f586babd"
      },
      "execution_count": null,
      "outputs": [
        {
          "output_type": "display_data",
          "data": {
            "text/plain": [
              "<Figure size 800x400 with 1 Axes>"
            ],
            "image/png": "[encoded data removed]"
          },
          "metadata": {}
        }
      ]
    },
    {
      "cell_type": "code",
      "source": [
        "# Calculate rolling window (e.g., 30 days) for CSAD and CSSD\n",
        "csad_rolling = csad.rolling(window=30).mean()\n",
        "cssd_rolling = cssd.rolling(window=30).mean()\n",
        "\n",
        "# Plot CSAD and CSSD over time\n",
        "plt.figure(figsize=(14, 7))\n",
        "plt.plot(csad_rolling, label='CSAD (30-day rolling mean)', color='orange')\n",
        "plt.plot(cssd_rolling, label='CSSD (30-day rolling mean)', color='green')\n",
        "plt.title('CSAD & CSSD Rolling Mean Over Time')\n",
        "plt.xlabel('Date')\n",
        "plt.ylabel('Value')\n",
        "plt.legend()\n",
        "plt.show()\n"
      ],
      "metadata": {
        "colab": {
          "base_uri": "https://localhost:8080/",
          "height": 474
        },
        "id": "L24ks1ZnbqKD",
        "outputId": "53a13821-68f3-4acc-f437-43bb3ced8684"
      },
      "execution_count": null,
      "outputs": [
        {
          "output_type": "display_data",
          "data": {
            "text/plain": [
              "<Figure size 1400x700 with 1 Axes>"
            ],
            "image/png": "[encoded data removed]"
          },
          "metadata": {}
        }
      ]
    },
    {
      "cell_type": "code",
      "source": [
        "#CSAD Regression"
      ],
      "metadata": {
        "id": "8WndS7jc1_4g"
      },
      "execution_count": null,
      "outputs": []
    },
    {
      "cell_type": "code",
      "source": [
        "import statsmodels.api as sm\n",
        "\n",
        "# Prepare the dependent and independent variables for CSSD regression\n",
        "csad_rolling_mean = csad_rolling.dropna()  # Drop NaN values from rolling CSSD\n",
        "market_returns = nifty_data['Return'].loc[csad_rolling_mean.index]  # Align with CSSD index\n",
        "\n",
        "# Define the independent variables\n",
        "X_csad = pd.DataFrame({\n",
        "    'Abs_Market_Return': market_returns.abs(),\n",
        "    'Squared_Market_Return': market_returns**2\n",
        "})\n",
        "X_csad = sm.add_constant(X_csad)\n",
        "\n",
        "# Perform the CSSD regression analysis\n",
        "csad_model = sm.OLS(csad_rolling_mean, X_csad).fit()\n",
        "print(csad_model.summary())\n"
      ],
      "metadata": {
        "colab": {
          "base_uri": "https://localhost:8080/"
        },
        "id": "rmB1d9SC2DQp",
        "outputId": "f26e0d26-dee0-4615-b571-b1eef91310dd"
      },
      "execution_count": null,
      "outputs": [
        {
          "output_type": "stream",
          "name": "stdout",
          "text": [
            "                            OLS Regression Results                            \n",
            "==============================================================================\n",
            "Dep. Variable:                      y   R-squared:                       0.048\n",
            "Model:                            OLS   Adj. R-squared:                  0.037\n",
            "Method:                 Least Squares   F-statistic:                     4.675\n",
            "Date:                Tue, 29 Oct 2024   Prob (F-statistic):             0.0104\n",
            "Time:                        05:58:13   Log-Likelihood:                 768.79\n",
            "No. Observations:                 190   AIC:                            -1532.\n",
            "Df Residuals:                     187   BIC:                            -1522.\n",
            "Df Model:                           2                                         \n",
            "Covariance Type:            nonrobust                                         \n",
            "=========================================================================================\n",
            "                            coef    std err          t      P>|t|      [0.025      0.975]\n",
            "-----------------------------------------------------------------------------------------\n",
            "const                     0.0139      0.000     28.158      0.000       0.013       0.015\n",
            "Abs_Market_Return         0.1222      0.041      2.985      0.003       0.041       0.203\n",
            "Squared_Market_Return    -1.0614      0.446     -2.382      0.018      -1.941      -0.182\n",
            "==============================================================================\n",
            "Omnibus:                       12.109   Durbin-Watson:                   0.093\n",
            "Prob(Omnibus):                  0.002   Jarque-Bera (JB):               13.076\n",
            "Skew:                           0.622   Prob(JB):                      0.00145\n",
            "Kurtosis:                       2.680   Cond. No.                     1.45e+03\n",
            "==============================================================================\n",
            "\n",
            "Notes:\n",
            "[1] Standard Errors assume that the covariance matrix of the errors is correctly specified.\n",
            "[2] The condition number is large, 1.45e+03. This might indicate that there are\n",
            "strong multicollinearity or other numerical problems.\n"
          ]
        }
      ]
    },
    {
      "cell_type": "code",
      "source": [
        "#CSSD Regression"
      ],
      "metadata": {
        "id": "F2hiSqJwcBB0"
      },
      "execution_count": null,
      "outputs": []
    },
    {
      "cell_type": "code",
      "source": [
        "import statsmodels.api as sm\n",
        "\n",
        "# Prepare the dependent and independent variables for CSSD regression\n",
        "cssd_rolling_mean = cssd_rolling.dropna()  # Drop NaN values from rolling CSSD\n",
        "market_returns = nifty_data['Return'].loc[cssd_rolling_mean.index]  # Align with CSSD index\n",
        "\n",
        "# Define the independent variables\n",
        "X_cssd = pd.DataFrame({\n",
        "    'Abs_Market_Return': market_returns.abs(),\n",
        "    'Squared_Market_Return': market_returns**2\n",
        "})\n",
        "X_cssd = sm.add_constant(X_cssd)\n",
        "\n",
        "# Perform the CSSD regression analysis\n",
        "cssd_model = sm.OLS(cssd_rolling_mean, X_cssd).fit()\n",
        "print(cssd_model.summary())\n"
      ],
      "metadata": {
        "colab": {
          "base_uri": "https://localhost:8080/"
        },
        "id": "udXG-yXwd06i",
        "outputId": "0a295454-0a06-48fb-d242-5b16031506b0"
      },
      "execution_count": null,
      "outputs": [
        {
          "output_type": "stream",
          "name": "stdout",
          "text": [
            "                            OLS Regression Results                            \n",
            "==============================================================================\n",
            "Dep. Variable:                      y   R-squared:                       0.051\n",
            "Model:                            OLS   Adj. R-squared:                  0.041\n",
            "Method:                 Least Squares   F-statistic:                     5.010\n",
            "Date:                Tue, 29 Oct 2024   Prob (F-statistic):            0.00760\n",
            "Time:                        05:58:37   Log-Likelihood:                 720.71\n",
            "No. Observations:                 190   AIC:                            -1435.\n",
            "Df Residuals:                     187   BIC:                            -1426.\n",
            "Df Model:                           2                                         \n",
            "Covariance Type:            nonrobust                                         \n",
            "=========================================================================================\n",
            "                            coef    std err          t      P>|t|      [0.025      0.975]\n",
            "-----------------------------------------------------------------------------------------\n",
            "const                     0.0174      0.001     27.292      0.000       0.016       0.019\n",
            "Abs_Market_Return         0.1616      0.053      3.066      0.002       0.058       0.266\n",
            "Squared_Market_Return    -1.3777      0.574     -2.400      0.017      -2.510      -0.245\n",
            "==============================================================================\n",
            "Omnibus:                       14.232   Durbin-Watson:                   0.099\n",
            "Prob(Omnibus):                  0.001   Jarque-Bera (JB):               15.955\n",
            "Skew:                           0.698   Prob(JB):                     0.000343\n",
            "Kurtosis:                       2.744   Cond. No.                     1.45e+03\n",
            "==============================================================================\n",
            "\n",
            "Notes:\n",
            "[1] Standard Errors assume that the covariance matrix of the errors is correctly specified.\n",
            "[2] The condition number is large, 1.45e+03. This might indicate that there are\n",
            "strong multicollinearity or other numerical problems.\n"
          ]
        }
      ]
    },
    {
      "cell_type": "markdown",
      "source": [
        "\n",
        "Conclusion:\n",
        "The CSSD analysis further supports the presence of herding behavior, reinforcing the findings from the CSAD analysis. The negative coefficient of Squared_Market_Return in both models indicates that as market returns increase (positively or negatively), stocks are more likely to move together, which is characteristic of herding behavior."
      ],
      "metadata": {
        "id": "A6r-Hpr_ReMR"
      }
    },
    {
      "cell_type": "code",
      "source": [
        "#Volume-Return Correlation"
      ],
      "metadata": {
        "id": "QtUh4xxkd1uP"
      },
      "execution_count": null,
      "outputs": []
    },
    {
      "cell_type": "code",
      "source": [
        "import pandas as pd\n",
        "\n",
        "# Assuming 'stock_data' DataFrame has individual stock volume columns\n",
        "# and stock tickers are in a list called 'stocks'\n",
        "\n",
        "# Combine volume columns for all stocks\n",
        "total_volume = stock_data[stocks].sum(axis=1).rename('Total_Volume')\n",
        "\n",
        "# Calculate correlations between returns and total volume for each stock\n",
        "volume_return_correlations = {}\n",
        "\n",
        "for stock in stocks:\n",
        "    # Get the total volume and returns for each stock\n",
        "    stock_return = stock_returns[stock].loc[total_volume.index]  # Align with volume index\n",
        "\n",
        "    # Calculate correlation between total volume and returns\n",
        "    correlation = stock_return.corr(total_volume)\n",
        "    volume_return_correlations[stock] = correlation\n",
        "\n",
        "# Print the correlation values\n",
        "print(\"Volume-Return Correlations for Each Stock (using total volume):\")\n",
        "for stock, corr in volume_return_correlations.items():\n",
        "    print(f\"{stock}: {corr:.4f}\")"
      ],
      "metadata": {
        "id": "TEyHvj8ceMAI"
      },
      "execution_count": null,
      "outputs": []
    },
    {
      "cell_type": "markdown",
      "source": [
        "Conclusion:\n",
        "The correlation analysis between trading volume and returns does not provide strong evidence of herding behavior. Combined with the earlier CSAD and CSSD analyses, which did indicate herding, this suggests that investors may not be reacting to volume in a consistent manner, but are instead aligning more with market returns."
      ],
      "metadata": {
        "id": "HFW1nlKpSAPb"
      }
    }
  ]
}